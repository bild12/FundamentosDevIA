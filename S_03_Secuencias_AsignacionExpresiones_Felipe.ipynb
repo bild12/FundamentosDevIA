{
  "cells": [
    {
      "cell_type": "markdown",
      "metadata": {
        "id": "view-in-github",
        "colab_type": "text"
      },
      "source": [
        "<a href=\"https://colab.research.google.com/github/bild12/FundamentosDevIA/blob/main/S_03_Secuencias_AsignacionExpresiones_Felipe.ipynb\" target=\"_parent\"><img src=\"https://colab.research.google.com/assets/colab-badge.svg\" alt=\"Open In Colab\"/></a>"
      ]
    },
    {
      "cell_type": "markdown",
      "metadata": {
        "id": "3IaPVU7ZzJRC"
      },
      "source": [
        "![EncabezadoNotebook.png](data:image/png;base64,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)\n",
        "\n",
        "<h1>Secuencias: asignaciones, expresiones y lectura/escritura</h1>\n",
        "\n",
        "Introducción a la programación. Primeros pasos asociados con el uso de variables, expresiones, asignaciones y otro tipo de instrucciones simples de secuencia como lectura y escritura de datos.\n",
        "\n",
        "Usted puede guardar este Notebook con otro nombre y editar y probar cambios en el código que se presenta en las siguientes secciones. El notebook esta desarrollado en Colaboratory o [Colab](https://www.youtube.com/watch?v=inN8seMm7UI) como se conoce comunmente.\n"
      ]
    },
    {
      "cell_type": "code",
      "execution_count": null,
      "metadata": {
        "id": "8ufg8V5NRMmY",
        "colab": {
          "base_uri": "https://localhost:8080/"
        },
        "outputId": "ff9f0f1a-b2e0-48c2-f7e9-2b57c4b61792"
      },
      "outputs": [
        {
          "output_type": "stream",
          "name": "stdout",
          "text": [
            "Mounted at /content/drive\n"
          ]
        }
      ],
      "source": [
        "from google.colab import drive\n",
        "drive.mount('/content/drive')"
      ]
    },
    {
      "cell_type": "markdown",
      "metadata": {
        "id": "Qiej42bBXTBx"
      },
      "source": [
        "# Escritura de datos\n",
        "\n",
        "Una de las instrucciones simples de secuencia es el uso de la función ***print()*** para la escritura de datos en la pantalla del usuario. Esta función se usará la mayor parte del tiempo en todos nuestros programas para mostrar los datos de salida de nuestros algoritmos.\n",
        "\n",
        "---\n",
        "**Nota**: De aquí en adelante nos referiremos al ***usuario*** como aquella persona que puede intereractuar con nuestros programas (o scripts) ingresando datos u observando los resultados de los mismos.\n",
        "\n",
        "De igual manera, nos referiremos a la ***Pantalla del usuario***, ***Vantana de salida***, ***Prompt*** o ***Línea de Comandos***, al lugar en el cual podemos ingresar datos a nuestro programa o en el cual podemos ver las salidas del mismo para interactuar con él.\n",
        "\n",
        "---"
      ]
    },
    {
      "cell_type": "code",
      "execution_count": null,
      "metadata": {
        "colab": {
          "base_uri": "https://localhost:8080/"
        },
        "id": "ZTDXPicaYa-l",
        "outputId": "4527c904-6ff5-4054-cc84-3dfd05b6c4de"
      },
      "outputs": [
        {
          "output_type": "stream",
          "name": "stdout",
          "text": [
            "Hola a todos\n",
            "Esto es un comentario de varias líneas en Python\n"
          ]
        }
      ],
      "source": [
        "# ------------------------------------------------------------------------------\n",
        "# PRIMER SCRIPT - Python Basics\n",
        "# Author: Curso de Computacion para IA - Luis Carlos Diaz\n",
        "# Uso de la función print()\n",
        "# Esta es una forma de tener comentarios dentro del código.\n",
        "# ------------------------------------------------------------------------------\n",
        "print(\"Hola a todos\")\n",
        "\n",
        "# Intente agregar aquí otros mensajes siguiento el patrón de la instrucción...\n",
        "print (\"Esto es un comentario de varias líneas en Python\")\n"
      ]
    },
    {
      "cell_type": "markdown",
      "metadata": {
        "id": "PUb75G5579ts"
      },
      "source": [
        "# Asignaciones y Expresiones\n",
        "\n",
        "**Variables y Tipos de Datos:**\n",
        "\n",
        "Como mencionamos en la sesión de clase, las variables tiene cuatro características o componentes clave: su nombre, el tipo de dato al que pertenecen, su valor y la localización en memoria.\n",
        "\n",
        "A continuación vamos a usar varias asignaciones para ver la manera de trabajar con variables y expresiones.\n",
        "\n",
        "---\n",
        "\n",
        "**Nota:** Vamos a utilizar la instrucción propia de Python denominada ***type()*** para ver el tipo de dato al que pertenece una determinada variable (o expresión).\n",
        "\n",
        "---"
      ]
    },
    {
      "cell_type": "code",
      "execution_count": null,
      "metadata": {
        "colab": {
          "base_uri": "https://localhost:8080/"
        },
        "id": "m8Dv36KzOKiv",
        "outputId": "2495fe6b-7943-4649-f0f3-288a0b1f4efb"
      },
      "outputs": [
        {
          "output_type": "stream",
          "name": "stdout",
          "text": [
            "Algunas asignaciones y tipos de datos de las variables...\n",
            "\n",
            "5\n",
            "<class 'int'>\n",
            "3.1416\n",
            "<class 'float'>\n",
            "True\n",
            "<class 'bool'>\n",
            "string o cadena de texto\n",
            "<class 'str'>\n",
            "Diferencia entre texto y valores de un número...\n",
            "12 12\n",
            "<class 'int'>\n",
            "<class 'str'>\n"
          ]
        }
      ],
      "source": [
        "# ------------------------------------------------------------------------------\n",
        "# Uso de variables y el tipo de dato al que pertenecen\n",
        "# ------------------------------------------------------------------------------\n",
        "\n",
        "print(\"Algunas asignaciones y tipos de datos de las variables...\\n\")\n",
        "\n",
        "x = 5          # Una expresion entera que corresponde a un literal (el 5)\n",
        "print(x)\n",
        "print(type(x))\n",
        "\n",
        "y = 3.1416     # Una expresion flotante que corresponde a un literal (el 3.1416)\n",
        "print(y)\n",
        "print(type(y))\n",
        "\n",
        "b = True       # Una expresion booleana que corresponde a un literal (el True)\n",
        "print(b)\n",
        "print(type(b))\n",
        "\n",
        "s = \"string o cadena de texto\"  # Una expresion de tipo string\n",
        "print(s)\n",
        "print(type(s))\n",
        "\n",
        "# ------------------------------------------------------------------------------\n",
        "# Cuidado cuando hablamos por ejemplo de la magnitud o el valor de un número vs\n",
        "# el símbolo que lo representa. Es diferente por ejemplo el valor del número 12\n",
        "# vs los simbolos \"1\" y \"2\" que los representan. Analice el siguiente ejemplo:\n",
        "# ------------------------------------------------------------------------------\n",
        "print(\"Diferencia entre texto y valores de un número...\")\n",
        "w = 12\n",
        "z = \"12\"\n",
        "print(w,z)  # Se puede usar print() para escribir varias cosas al tiempo.\n",
        "print(type(w))\n",
        "print(type(z))"
      ]
    },
    {
      "cell_type": "markdown",
      "metadata": {
        "id": "ncQejRwSnLte"
      },
      "source": [
        "**Expresiones y Asignaciones**\n",
        "\n",
        "Gran parte del éxito de escibir correctamente las instrucciones en un lenguaje de programación es tener claro y hacer buen uso de las ***expresiones*** y tener claro a que tipo o clase de dato pertenecen.\n",
        "\n",
        "Las expresiones (su evaluación final o el resultado de las mismas) también tienen un tipo o clase de dato.\n",
        "\n",
        "En consecuencia, para hacer una correcta asignación (o el manejo de otro tipo de instruccciones que se veran a través del curso) es importante seguir el correcto orden y formalismo visto en clase. Aquí algunos ejemplos para entender dicho casos o reglas:\n",
        "\n",
        "---\n",
        "\n",
        "***Nota:*** En el siguiente código, trate de analizarlo primero y resolver las preguntas hechas en su interior antes de ejecutar el script\n",
        "\n",
        "---"
      ]
    },
    {
      "cell_type": "code",
      "execution_count": null,
      "metadata": {
        "colab": {
          "base_uri": "https://localhost:8080/"
        },
        "id": "vRAHW5G2oLQC",
        "outputId": "4279c9b7-a64e-4705-cdda-5f96a2706564"
      },
      "outputs": [
        {
          "output_type": "stream",
          "name": "stdout",
          "text": [
            "Caso en el que la expresion es un literal\n",
            "5 <class 'int'>\n",
            "\n",
            "Caso en el que la expresion es un variable\n",
            "5 <class 'int'>\n",
            "\n",
            "Caso en el que la expresion es una expresion - operador - expresion\n",
            "10 <class 'int'>\n",
            "\n",
            "El resultado de una expresion un poco más compleja\n",
            "28 <class 'int'>\n",
            "\n",
            "Caso en el que la expresion es una expresion - operador - expresion\n",
            "\n",
            "El resultado de una expresion un poco más compleja\n",
            "28 <class 'int'>\n",
            "\n",
            "Caso en el que la expresion es una expresion - operador - expresion\n",
            "\\El valor anterior de la variable x que era 5 se sobrescribió con 28/ porque en Python no hay manera de recuperar el valor anterior\n",
            "\n",
            "TIPO DE DATO DE UNA EXPRESION...\n",
            "Resultado:  True <class 'bool'>\n"
          ]
        }
      ],
      "source": [
        "# ------------------------------------------------------------------------------\n",
        "# Escribiendo buenas expresiones para escribir correctamente nuestros programas\n",
        "# y particularmente, en este caso, para hacer asignaciones correctamente.\n",
        "# ------------------------------------------------------------------------------\n",
        "\n",
        "# Ejemplos de asignaciones correctas y el caso o forma de la expresion:\n",
        "\n",
        "print(\"Caso en el que la expresion es un literal\")\n",
        "x = 5\n",
        "print(x, type(x))\n",
        "\n",
        "print(\"\\nCaso en el que la expresion es un variable\")\n",
        "z = x\n",
        "print(z, type(z))\n",
        "\n",
        "print(\"\\nCaso en el que la expresion es una expresion - operador - expresion\")\n",
        "w = x+z\n",
        "print(w, type(w))\n",
        "\n",
        "# ------------------------------------------------------------------------------\n",
        "# ¿A qué caso corresponde la siguiente expresion?\n",
        "# Se debe tener en cuenta también la \"precedencia de operadores\"\n",
        "# ------------------------------------------------------------------------------\n",
        "print(\"\\nEl resultado de una expresion un poco más compleja\")\n",
        "x = 8+3*10-w   # ¿El resultado sera 28 o 100?\n",
        "print(x, type(x))  # ¿Qué paso con el valor anterior de la variable x?\n",
        "print(\"\\nCaso en el que la expresion es una expresion - operador - expresion\")\n",
        "\n",
        "# ------------------------------------------------------------------------------\n",
        "# Se debe tener presente los tipos de operadores...\n",
        "# ------------------------------------------------------------------------------\n",
        "b = 8 > 5   # ¿a qué caso corresponde esta expresion?\n",
        "print(\"\\nEl resultado de una expresion un poco más compleja\")\n",
        "x = 8+3*10-w   # ¿El resultado sera 28 o 100? # El resultado es 28\n",
        "print(x, type(x))  # ¿Qué paso con el valor anterior de la variable x?\n",
        "print(\"\\nCaso en el que la expresion es una expresion - operador - expresion\")\n",
        "print(\"\\El valor anterior de la variable x que era 5 se sobrescribió con 28/ porque en Python no hay manera de recuperar el valor anterior\")\n",
        "\n",
        "# ------------------------------------------------------------------------------\n",
        "# En conclusión, las expresiones (su evaluación) también pertenecen a un tipo de\n",
        "# dato\n",
        "# ------------------------------------------------------------------------------\n",
        "print(\"\\nTIPO DE DATO DE UNA EXPRESION...\")\n",
        "\n",
        "# Note que no se está haciendo una asignación en la siguiente instrucción!\n",
        "# ¿Cuál es el tipo de dato de la siguiente expresion...\n",
        "b= 5 > 0\n",
        "print(\"Resultado: \", b, type(b))\n",
        "if (type(b)=='bool'):\n",
        "  print('x')\n",
        "\n",
        "#... y finalmente, ¿cual sería la instrucción para escribir el resultado de la\n",
        "# anterior expresión?  Escriba a continuación tal instrucción...\n"
      ]
    },
    {
      "cell_type": "markdown",
      "metadata": {
        "id": "ZkIUXoergdkj"
      },
      "source": [
        "# Lectura de datos\n",
        "\n",
        "Otra de las instrucciones simples de secuencia es el uso de la función ***input()*** para la lectura de datos de la pantalla del usuario. Esta función se usará la mayor parte del tiempo en todos nuestros programas para ingresar los datos de entrada a nuestros programas.\n",
        "\n",
        "---\n",
        "**Nota**: Al igual que se mencionó arriba, usaremos los términos ***usuario*** y ***Pantalla de usuario*** para referirnos a la persona que ingresa los datos al programa (comunmente nosotros mismos) el lugar desde el cual se ingresan los datos respectivamente.\n",
        "\n",
        "---"
      ]
    },
    {
      "cell_type": "code",
      "execution_count": null,
      "metadata": {
        "id": "-Xndu2uGhj32",
        "colab": {
          "base_uri": "https://localhost:8080/"
        },
        "outputId": "0faf13d9-6851-4c6d-838c-fe74d52e0466"
      },
      "outputs": [
        {
          "output_type": "stream",
          "name": "stdout",
          "text": [
            "Ingrese un texto cualquiera: MILLOS\n",
            "Gracias, usted escribio el texto: MILLOS\n",
            "<class 'str'>\n",
            "\n",
            "CONVERTIR TEXTO A NUMERO \n",
            "Ingrese un número Entero: 10\n",
            "El tipo de dato de str es:  <class 'str'>\n",
            "\n",
            "El tipo de dato de num es: <class 'int'>\n",
            "\n",
            "HAY QUE TENER EN CUENTA LOS TIPOS O CLASES DE LOS DATOS \n",
            "103\n",
            "13\n"
          ]
        }
      ],
      "source": [
        "# ------------------------------------------------------------------------------\n",
        "# Uso de la función input() para leer datos\n",
        "# ------------------------------------------------------------------------------\n",
        "txt = input(\"Ingrese un texto cualquiera: \")\n",
        "\n",
        "print(\"Gracias, usted escribio el texto:\", txt)\n",
        "print(type(txt))\n",
        "\n",
        "# ------------------------------------------------------------------------------\n",
        "# En Python existen formas de transformar un texto a número, mientras los símbolos\n",
        "# que representan el número sean coherentes. Ejemplo:\n",
        "# ------------------------------------------------------------------------------\n",
        "print(\"\\nCONVERTIR TEXTO A NUMERO \")\n",
        "cadena = input(\"Ingrese un número Entero: \")\n",
        "num = int(cadena)\n",
        "\n",
        "print(\"El tipo de dato de str es: \", type(cadena))\n",
        "print(\"\\nEl tipo de dato de num es:\", type(num))\n",
        "\n",
        "# Esto es importante PORQUE puede suceder cosas como las siguientes:\n",
        "\n",
        "print(\"\\nHAY QUE TENER EN CUENTA LOS TIPOS O CLASES DE LOS DATOS \")\n",
        "\n",
        "caso1 = cadena + \"3\"  # No es posible sumar un string y un número entero (error)\n",
        "print(caso1)       # Aqui se está concatenando -pegando- los dos strings.\n",
        "\n",
        "caso2 = num + 3    # Aqui si se está haciendo la suma de dos magnitudes enteras\n",
        "print(caso2)\n"
      ]
    },
    {
      "cell_type": "markdown",
      "metadata": {
        "id": "MOYTkUKxbuM5"
      },
      "source": [
        "**Lectura de valores enteros:**\n",
        "\n",
        "Dado que muchos de los programas leen continuamente valores de tipo entero, es posible hacerlo de manera simplificada usando una sola expresión utilizando la conversión de datos de string a entero. Ver el siguiente ejemplo:"
      ]
    },
    {
      "cell_type": "code",
      "execution_count": null,
      "metadata": {
        "id": "nfmC1_r6kU4-",
        "colab": {
          "base_uri": "https://localhost:8080/"
        },
        "outputId": "5c2a7f7e-76e6-4bfd-a049-a03816affa10"
      },
      "outputs": [
        {
          "output_type": "stream",
          "name": "stdout",
          "text": [
            "Ingrese un valor entero cualquiera: 16\n",
            "Gracias, usted escribio el valor: 16\n",
            "<class 'int'>\n",
            "Resultado de sumar 35 al valor ingresado al programa: 51\n"
          ]
        }
      ],
      "source": [
        "# ------------------------------------------------------------------------------\n",
        "# Una forma simplificada para leer un valor a traves de input() es como sigue...\n",
        "# ------------------------------------------------------------------------------\n",
        "valor = int(input(\"Ingrese un valor entero cualquiera: \"))\n",
        "\n",
        "print(\"Gracias, usted escribio el valor:\", valor)\n",
        "print(type(valor))\n",
        "\n",
        "suma = valor + 35\n",
        "print(\"Resultado de sumar 35 al valor ingresado al programa:\", suma)\n"
      ]
    },
    {
      "cell_type": "markdown",
      "metadata": {
        "id": "otdN-6km8Buy"
      },
      "source": [
        "# Estructuras Condicionales\n",
        "\n",
        "Como adelanto a la siguiente sesión, se introduce a continuación La forma general de una estrutura condicional:\n",
        "\n",
        "---\n",
        "if (***expresion booleana***) : *proceso_V*\n",
        "\n",
        "else : *proceso_F*\n",
        "\n",
        "---\n",
        "\n",
        "En donde el *proceso_V* o el *proceso_F* se componen de una sentecia simple (una única instrucción) o de un bloque de sentencias (un conjunto de varias instrucciones). Incluso el *proceso_F* puede ser vacio, es decir que no tiene instrucciones. Eso es porque el *proceso_F* es opcional.\n",
        "\n",
        "Esta estructura define una **decisión**. Si la la *expresion boolena* se evalua a verdadero (True) se ejecuta el *proceso_V*. Si la *expresion boolena* se evalua a falso (False) se ejecutra el *proceso_F* si existe.\n",
        "\n",
        "Es importante recalcar, que sólo se ejecuta el *proceso_V* asociado a la cláusula **if** o el *proceso_F* asociado al **else** pero NUNCA ambos.\n",
        "\n",
        "A continuación se un muestra un ejemplo del caso general:"
      ]
    },
    {
      "cell_type": "code",
      "execution_count": null,
      "metadata": {
        "colab": {
          "base_uri": "https://localhost:8080/"
        },
        "id": "hB1spk7QqS3D",
        "outputId": "05981e01-5649-4533-91d5-c33064eb1c71"
      },
      "outputs": [
        {
          "output_type": "stream",
          "name": "stdout",
          "text": [
            "Ingrese un número Entero: 20\n",
            "El número:  20  es positivo\n",
            "Fin del programa\n"
          ]
        }
      ],
      "source": [
        "# ------------------------------------------------------------------------------\n",
        "# Un ejemplo de una estructura condicional.\n",
        "# ------------------------------------------------------------------------------\n",
        "\n",
        "x = int(input(\"Ingrese un número Entero: \"))\n",
        "\n",
        "# Observe que x>=0 es una expresión de tipo booleano:\n",
        "\n",
        "if (x>=0):\n",
        "  print(\"El número: \", x, \" es positivo\")\n",
        "else:\n",
        "  print(\"El número:\", x, \" es negativo\")\n",
        "\n",
        "print(\"Fin del programa\")"
      ]
    },
    {
      "cell_type": "markdown",
      "metadata": {
        "id": "-cGEfPIBrBk2"
      },
      "source": [
        "# Ejercicio\n",
        "Utilizando las explicaciones básicas de este documento y lo visto en clase, haga un pequeño script para calcular las raices de una ecuación cuadrática:\n",
        "\n",
        "---\n",
        "\n",
        "Nota: Por simplicidad del ejercicio, asuma que el usuario conoce y respeta las precondiciones del algoritmo.\n",
        "\n",
        "---"
      ]
    },
    {
      "cell_type": "code",
      "execution_count": null,
      "metadata": {
        "id": "uCMVG2sml3q5"
      },
      "outputs": [],
      "source": [
        "# ------------------------------------------------------------------------------\n",
        "# PROGRAMA: <<solucion ecuacion cuadratica>\n",
        "# ------------------------------------------------------------------------------\n",
        "# Descripción: <<breve descripción>>\n",
        "# ------------------------------------------------------------------------------\n",
        "# Autor: Luis Carlos Díaz\n",
        "# Version: 2.0\n",
        "# [dia.mes.año]\n",
        "# ------------------------------------------------------------------------------\n",
        "# IMPORTAR MODULOS\n",
        "import datetime # modulo de python para este ejemplo (se usar\n",
        "\n",
        "# ----------------------------------------------------------------------------------------\n",
        "# VARIABLES GLOBALES Y PRE-CONDICIONES\n",
        "# ----------------------------------------------------------------------------------------\n",
        "#\n",
        "\n",
        "# ----------------------------------------------------------------------------------------\n",
        "# POSTCONDICIONES\n",
        "# ----------------------------------------------------------------------------------------\n",
        "\n",
        "# <<Escriba desde aqui el código del programa...>>\n",
        "\n"
      ]
    },
    {
      "cell_type": "markdown",
      "metadata": {
        "id": "VPazHr3_E3pA"
      },
      "source": [
        "Acorde con las instrucciones en clase para el trabajo independiente de la semana, haga este programa en PyCharm o el IDE de su preferencia cuidando las precondiciones establecidas para encontrar las soluciones de una ecuación cuadrática. Se requiere usar lo visto hasta aquí (incluyendo el uso de estructuras condicionales)."
      ]
    },
    {
      "cell_type": "code",
      "execution_count": null,
      "metadata": {
        "id": "8ZAgIX3wOTai"
      },
      "outputs": [],
      "source": []
    },
    {
      "cell_type": "markdown",
      "metadata": {
        "id": "j0W1_HnieRVK"
      },
      "source": [
        "fin."
      ]
    }
  ],
  "metadata": {
    "colab": {
      "provenance": [],
      "include_colab_link": true
    },
    "kernelspec": {
      "display_name": "Python 3",
      "name": "python3"
    }
  },
  "nbformat": 4,
  "nbformat_minor": 0
}